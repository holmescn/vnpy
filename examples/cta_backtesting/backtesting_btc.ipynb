{
 "cells": [
  {
   "cell_type": "code",
   "execution_count": 1,
   "metadata": {},
   "outputs": [],
   "source": [
    "#%%\n",
    "from vnpy.app.cta_strategy.backtesting import BacktestingEngine, OptimizationSetting\n",
    "from vnpy.app.cta_strategy.strategies.adx_atr_strategy import (\n",
    "    AdxAtrStrategy,\n",
    ")\n",
    "from vnpy.app.cta_strategy.strategies.boll_atr_strategy import (\n",
    "    BollAtrStrategy,\n",
    ")\n",
    "from vnpy.app.cta_strategy.strategies.cci_atr_strategy import (\n",
    "    CciAtrStrategy,\n",
    ")\n",
    "from vnpy.app.cta_strategy.strategies.cmo_atr_strategy import (\n",
    "    CmoAtrStrategy,\n",
    ")\n",
    "from vnpy.app.cta_strategy.strategies.dema_atr_strategy import (\n",
    "    DemaAtrStrategy,\n",
    ")\n",
    "from vnpy.app.cta_strategy.strategies.donchian_atr_strategy import (\n",
    "    DonchianAtrStrategy,\n",
    ")\n",
    "from vnpy.app.cta_strategy.strategies.ht_atr_strategy import (\n",
    "    HtAtrStrategy,\n",
    ")\n",
    "from vnpy.app.cta_strategy.strategies.kama_atr_strategy import (\n",
    "    KamaAtrStrategy,\n",
    ")\n",
    "from vnpy.app.cta_strategy.strategies.keltner_atr_strategy import (\n",
    "    KeltnerAtrStrategy,\n",
    ")\n",
    "from vnpy.app.cta_strategy.strategies.macd_atr_strategy import (\n",
    "    MacdAtrStrategy,\n",
    ")\n",
    "from vnpy.app.cta_strategy.strategies.rsi_atr_strategy import (\n",
    "    RsiAtrStrategy,\n",
    ")\n",
    "from vnpy.app.cta_strategy.strategies.sar_atr_strategy import (\n",
    "    SarAtrStrategy,\n",
    ")\n",
    "from vnpy.app.cta_strategy.strategies.tema_atr_strategy import (\n",
    "    TemaAtrStrategy,\n",
    ")\n",
    "from vnpy.app.cta_strategy.strategies.trima_atr_strategy import (\n",
    "    TrimaAtrStrategy,\n",
    ")\n",
    "\n",
    "from vnpy.app.cta_strategy.strategies.boll_channel_strategy import (\n",
    "    BollChannelStrategy,\n",
    ")\n",
    "from vnpy.app.cta_strategy.strategies.double_ma_strategy import (\n",
    "    DoubleMaStrategy,\n",
    ")\n",
    "from vnpy.app.cta_strategy.strategies.dual_thrust_strategy import (\n",
    "    DualThrustStrategy,\n",
    ")\n",
    "from vnpy.app.cta_strategy.strategies.king_keltner_strategy import (\n",
    "    KingKeltnerStrategy,\n",
    ")\n",
    "from vnpy.app.cta_strategy.strategies.multi_timeframe_strategy import (\n",
    "    MultiTimeframeStrategy,\n",
    ")\n",
    "from vnpy.app.cta_strategy.strategies.turtle_signal_strategy import (\n",
    "    TurtleSignalStrategy,\n",
    ")\n",
    "from datetime import datetime"
   ]
  },
  {
   "cell_type": "code",
   "execution_count": null,
   "metadata": {},
   "outputs": [
    {
     "name": "stdout",
     "output_type": "stream",
     "text": [
      "2019-09-12 18:30:58.688170\t开始加载历史数据\n",
      "2019-09-12 18:30:58.689172\t加载进度：[58%]\n",
      "2019-09-12 18:30:58.690171\t加载进度：[100%]\n",
      "2019-09-12 18:30:58.690171\t历史数据加载完成，数据量：74882\n",
      "2019-09-12 18:30:59.213835\t策略初始化完成\n",
      "2019-09-12 18:30:59.213835\t开始回放历史数据\n"
     ]
    }
   ],
   "source": [
    "#%%\n",
    "engine = BacktestingEngine()\n",
    "engine.set_parameters(\n",
    "    vt_symbol=\"ETHUSD.BITMEX\",\n",
    "    interval=\"1m\",\n",
    "    start=datetime(2019, 7, 21),\n",
    "    end=datetime(2019, 9, 11),\n",
    "    rate=0.001 * 0.0,\n",
    "    slippage=0.05,\n",
    "    size=1,\n",
    "    pricetick=0.05,\n",
    "    capital=1_000_000,\n",
    ")\n",
    "engine.add_strategy(KeltnerAtrStrategy, dict(reverse=False))\n",
    "\n",
    "#%%\n",
    "engine.load_data()\n",
    "engine.run_backtesting()\n",
    "df = engine.calculate_result()\n",
    "engine.calculate_statistics()\n",
    "engine.show_chart()"
   ]
  },
  {
   "cell_type": "code",
   "execution_count": null,
   "metadata": {},
   "outputs": [],
   "source": []
  }
 ],
 "metadata": {
  "kernelspec": {
   "display_name": "Python 3",
   "language": "python",
   "name": "python3"
  },
  "language_info": {
   "codemirror_mode": {
    "name": "ipython",
    "version": 3
   },
   "file_extension": ".py",
   "mimetype": "text/x-python",
   "name": "python",
   "nbconvert_exporter": "python",
   "pygments_lexer": "ipython3",
   "version": "3.7.3"
  }
 },
 "nbformat": 4,
 "nbformat_minor": 2
}
