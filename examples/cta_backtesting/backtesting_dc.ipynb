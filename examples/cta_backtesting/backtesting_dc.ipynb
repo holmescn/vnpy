{
 "cells": [
  {
   "cell_type": "code",
   "execution_count": 1,
   "metadata": {},
   "outputs": [],
   "source": [
    "#%%\n",
    "from vnpy.app.cta_strategy.backtesting import BacktestingEngine, OptimizationSetting\n",
    "from vnpy.app.cta_strategy.strategies.adx_atr_strategy import (\n",
    "    AdxAtrStrategy,\n",
    ")\n",
    "from vnpy.app.cta_strategy.strategies.boll_atr_strategy import (\n",
    "    BollAtrStrategy,\n",
    ")\n",
    "from vnpy.app.cta_strategy.strategies.cci_atr_strategy import (\n",
    "    CciAtrStrategy,\n",
    ")\n",
    "from vnpy.app.cta_strategy.strategies.cmo_atr_strategy import (\n",
    "    CmoAtrStrategy,\n",
    ")\n",
    "from vnpy.app.cta_strategy.strategies.dema_atr_strategy import (\n",
    "    DemaAtrStrategy,\n",
    ")\n",
    "from vnpy.app.cta_strategy.strategies.donchian_atr_strategy import (\n",
    "    DonchianAtrStrategy,\n",
    ")\n",
    "from vnpy.app.cta_strategy.strategies.ht_atr_strategy import (\n",
    "    HtAtrStrategy,\n",
    ")\n",
    "from vnpy.app.cta_strategy.strategies.kama_atr_strategy import (\n",
    "    KamaAtrStrategy,\n",
    ")\n",
    "from vnpy.app.cta_strategy.strategies.keltner_atr_strategy import (\n",
    "    KeltnerAtrStrategy,\n",
    ")\n",
    "from vnpy.app.cta_strategy.strategies.macd_atr_strategy import (\n",
    "    MacdAtrStrategy,\n",
    ")\n",
    "from vnpy.app.cta_strategy.strategies.rsi_atr_strategy import (\n",
    "    RsiAtrStrategy,\n",
    ")\n",
    "from vnpy.app.cta_strategy.strategies.sar_atr_strategy import (\n",
    "    SarAtrStrategy,\n",
    ")\n",
    "from vnpy.app.cta_strategy.strategies.tema_atr_strategy import (\n",
    "    TemaAtrStrategy,\n",
    ")\n",
    "from vnpy.app.cta_strategy.strategies.trima_atr_strategy import (\n",
    "    TrimaAtrStrategy,\n",
    ")\n",
    "\n",
    "from vnpy.app.cta_strategy.strategies.boll_channel_strategy import (\n",
    "    BollChannelStrategy,\n",
    ")\n",
    "from vnpy.app.cta_strategy.strategies.double_ma_strategy import (\n",
    "    DoubleMaStrategy,\n",
    ")\n",
    "from vnpy.app.cta_strategy.strategies.dual_thrust_strategy import (\n",
    "    DualThrustStrategy,\n",
    ")\n",
    "from vnpy.app.cta_strategy.strategies.king_keltner_strategy import (\n",
    "    KingKeltnerStrategy,\n",
    ")\n",
    "from vnpy.app.cta_strategy.strategies.multi_timeframe_strategy import (\n",
    "    MultiTimeframeStrategy,\n",
    ")\n",
    "from vnpy.app.cta_strategy.strategies.turtle_signal_strategy import (\n",
    "    TurtleSignalStrategy,\n",
    ")\n",
    "from datetime import datetime"
   ]
  },
  {
   "cell_type": "code",
   "execution_count": 7,
   "metadata": {},
   "outputs": [
    {
     "name": "stdout",
     "output_type": "stream",
     "text": [
      "2019-10-04 14:11:59.684787\t开始加载历史数据\n",
      "2019-10-04 14:11:59.685789\t加载进度：##### [50%]\n",
      "2019-10-04 14:11:59.686788\t加载进度：########## [100%]\n",
      "2019-10-04 14:11:59.686788\t历史数据加载完成，数据量：86148\n"
     ]
    },
    {
     "ename": "AttributeError",
     "evalue": "'KingKeltnerStrategy' object has no attribute 'timestamp'",
     "output_type": "error",
     "traceback": [
      "\u001b[1;31m---------------------------------------------------------------------------\u001b[0m",
      "\u001b[1;31mAttributeError\u001b[0m                            Traceback (most recent call last)",
      "\u001b[1;32m<ipython-input-7-109d7ab45503>\u001b[0m in \u001b[0;36m<module>\u001b[1;34m\u001b[0m\n\u001b[0;32m     16\u001b[0m \u001b[1;31m#%%\u001b[0m\u001b[1;33m\u001b[0m\u001b[1;33m\u001b[0m\u001b[1;33m\u001b[0m\u001b[0m\n\u001b[0;32m     17\u001b[0m \u001b[0mengine\u001b[0m\u001b[1;33m.\u001b[0m\u001b[0mload_data\u001b[0m\u001b[1;33m(\u001b[0m\u001b[1;33m)\u001b[0m\u001b[1;33m\u001b[0m\u001b[1;33m\u001b[0m\u001b[0m\n\u001b[1;32m---> 18\u001b[1;33m \u001b[0mengine\u001b[0m\u001b[1;33m.\u001b[0m\u001b[0mrun_backtesting\u001b[0m\u001b[1;33m(\u001b[0m\u001b[1;33m)\u001b[0m\u001b[1;33m\u001b[0m\u001b[1;33m\u001b[0m\u001b[0m\n\u001b[0m\u001b[0;32m     19\u001b[0m \u001b[0mdf\u001b[0m \u001b[1;33m=\u001b[0m \u001b[0mengine\u001b[0m\u001b[1;33m.\u001b[0m\u001b[0mcalculate_result\u001b[0m\u001b[1;33m(\u001b[0m\u001b[1;33m)\u001b[0m\u001b[1;33m\u001b[0m\u001b[1;33m\u001b[0m\u001b[0m\n\u001b[0;32m     20\u001b[0m \u001b[0mengine\u001b[0m\u001b[1;33m.\u001b[0m\u001b[0mcalculate_statistics\u001b[0m\u001b[1;33m(\u001b[0m\u001b[1;33m)\u001b[0m\u001b[1;33m\u001b[0m\u001b[1;33m\u001b[0m\u001b[0m\n",
      "\u001b[1;32md:\\work\\vnpy\\vnpy\\app\\cta_strategy\\backtesting.py\u001b[0m in \u001b[0;36mrun_backtesting\u001b[1;34m(self)\u001b[0m\n\u001b[0;32m    280\u001b[0m \u001b[1;33m\u001b[0m\u001b[0m\n\u001b[0;32m    281\u001b[0m             \u001b[0mself\u001b[0m\u001b[1;33m.\u001b[0m\u001b[0mdatetime\u001b[0m \u001b[1;33m=\u001b[0m \u001b[0mdata\u001b[0m\u001b[1;33m.\u001b[0m\u001b[0mdatetime\u001b[0m\u001b[1;33m\u001b[0m\u001b[1;33m\u001b[0m\u001b[0m\n\u001b[1;32m--> 282\u001b[1;33m             \u001b[0mself\u001b[0m\u001b[1;33m.\u001b[0m\u001b[0mcallback\u001b[0m\u001b[1;33m(\u001b[0m\u001b[0mdata\u001b[0m\u001b[1;33m)\u001b[0m\u001b[1;33m\u001b[0m\u001b[1;33m\u001b[0m\u001b[0m\n\u001b[0m\u001b[0;32m    283\u001b[0m \u001b[1;33m\u001b[0m\u001b[0m\n\u001b[0;32m    284\u001b[0m         \u001b[0mself\u001b[0m\u001b[1;33m.\u001b[0m\u001b[0mstrategy\u001b[0m\u001b[1;33m.\u001b[0m\u001b[0minited\u001b[0m \u001b[1;33m=\u001b[0m \u001b[1;32mTrue\u001b[0m\u001b[1;33m\u001b[0m\u001b[1;33m\u001b[0m\u001b[0m\n",
      "\u001b[1;32md:\\work\\vnpy\\vnpy\\app\\cta_strategy\\strategies\\king_keltner_strategy.py\u001b[0m in \u001b[0;36mon_bar\u001b[1;34m(self, bar)\u001b[0m\n\u001b[0;32m     54\u001b[0m         \"\"\"\n\u001b[0;32m     55\u001b[0m         \u001b[0msuper\u001b[0m\u001b[1;33m(\u001b[0m\u001b[0mKingKeltnerStrategy\u001b[0m\u001b[1;33m,\u001b[0m \u001b[0mself\u001b[0m\u001b[1;33m)\u001b[0m\u001b[1;33m.\u001b[0m\u001b[0mon_bar\u001b[0m\u001b[1;33m(\u001b[0m\u001b[0mbar\u001b[0m\u001b[1;33m)\u001b[0m\u001b[1;33m\u001b[0m\u001b[1;33m\u001b[0m\u001b[0m\n\u001b[1;32m---> 56\u001b[1;33m         \u001b[0mself\u001b[0m\u001b[1;33m.\u001b[0m\u001b[0mbg\u001b[0m\u001b[1;33m.\u001b[0m\u001b[0mupdate_bar\u001b[0m\u001b[1;33m(\u001b[0m\u001b[0mbar\u001b[0m\u001b[1;33m)\u001b[0m\u001b[1;33m\u001b[0m\u001b[1;33m\u001b[0m\u001b[0m\n\u001b[0m\u001b[0;32m     57\u001b[0m \u001b[1;33m\u001b[0m\u001b[0m\n\u001b[0;32m     58\u001b[0m     \u001b[1;32mdef\u001b[0m \u001b[0mon_5min_bar\u001b[0m\u001b[1;33m(\u001b[0m\u001b[0mself\u001b[0m\u001b[1;33m,\u001b[0m \u001b[0mbar\u001b[0m\u001b[1;33m:\u001b[0m \u001b[0mBarData\u001b[0m\u001b[1;33m)\u001b[0m\u001b[1;33m:\u001b[0m\u001b[1;33m\u001b[0m\u001b[1;33m\u001b[0m\u001b[0m\n",
      "\u001b[1;32md:\\work\\vnpy\\vnpy\\trader\\utility.py\u001b[0m in \u001b[0;36mupdate_bar\u001b[1;34m(self, bar)\u001b[0m\n\u001b[0;32m    253\u001b[0m \u001b[1;33m\u001b[0m\u001b[0m\n\u001b[0;32m    254\u001b[0m         \u001b[1;32mif\u001b[0m \u001b[0mfinished\u001b[0m\u001b[1;33m:\u001b[0m\u001b[1;33m\u001b[0m\u001b[1;33m\u001b[0m\u001b[0m\n\u001b[1;32m--> 255\u001b[1;33m             \u001b[0mself\u001b[0m\u001b[1;33m.\u001b[0m\u001b[0mon_window_bar\u001b[0m\u001b[1;33m(\u001b[0m\u001b[0mself\u001b[0m\u001b[1;33m.\u001b[0m\u001b[0mwindow_bar\u001b[0m\u001b[1;33m)\u001b[0m\u001b[1;33m\u001b[0m\u001b[1;33m\u001b[0m\u001b[0m\n\u001b[0m\u001b[0;32m    256\u001b[0m             \u001b[0mself\u001b[0m\u001b[1;33m.\u001b[0m\u001b[0mwindow_bar\u001b[0m \u001b[1;33m=\u001b[0m \u001b[1;32mNone\u001b[0m\u001b[1;33m\u001b[0m\u001b[1;33m\u001b[0m\u001b[0m\n\u001b[0;32m    257\u001b[0m \u001b[1;33m\u001b[0m\u001b[0m\n",
      "\u001b[1;32md:\\work\\vnpy\\vnpy\\app\\cta_strategy\\strategies\\king_keltner_strategy.py\u001b[0m in \u001b[0;36mon_5min_bar\u001b[1;34m(self, bar)\u001b[0m\n\u001b[0;32m     67\u001b[0m             \u001b[1;32mreturn\u001b[0m\u001b[1;33m\u001b[0m\u001b[1;33m\u001b[0m\u001b[0m\n\u001b[0;32m     68\u001b[0m \u001b[1;33m\u001b[0m\u001b[0m\n\u001b[1;32m---> 69\u001b[1;33m         \u001b[1;32mif\u001b[0m \u001b[0mself\u001b[0m\u001b[1;33m.\u001b[0m\u001b[0mtimestamp\u001b[0m \u001b[1;33m>\u001b[0m \u001b[0mbar\u001b[0m\u001b[1;33m.\u001b[0m\u001b[0mdatetime\u001b[0m\u001b[1;33m.\u001b[0m\u001b[0mtimestamp\u001b[0m\u001b[1;33m(\u001b[0m\u001b[1;33m)\u001b[0m\u001b[1;33m:\u001b[0m\u001b[1;33m\u001b[0m\u001b[1;33m\u001b[0m\u001b[0m\n\u001b[0m\u001b[0;32m     70\u001b[0m             \u001b[0mself\u001b[0m\u001b[1;33m.\u001b[0m\u001b[0mpos\u001b[0m \u001b[1;33m=\u001b[0m \u001b[1;36m0\u001b[0m\u001b[1;33m\u001b[0m\u001b[1;33m\u001b[0m\u001b[0m\n\u001b[0;32m     71\u001b[0m             \u001b[1;32mreturn\u001b[0m\u001b[1;33m\u001b[0m\u001b[1;33m\u001b[0m\u001b[0m\n",
      "\u001b[1;31mAttributeError\u001b[0m: 'KingKeltnerStrategy' object has no attribute 'timestamp'"
     ]
    }
   ],
   "source": [
    "#%%\n",
    "engine = BacktestingEngine()\n",
    "engine.set_parameters(\n",
    "    vt_symbol=\"BTCUSDT.OKEX\",\n",
    "    interval=\"1m\",\n",
    "    start=datetime(2019, 8, 1),\n",
    "    end=datetime(2019, 9, 30),\n",
    "    rate=0.001 * 0.0,\n",
    "    slippage=0.05,\n",
    "    size=1,\n",
    "    pricetick=0.05,\n",
    "    capital=1_000_000,\n",
    ")\n",
    "engine.add_strategy(KingKeltnerStrategy, dict(reverse=False, fixed_size=20))\n",
    "\n",
    "#%%\n",
    "engine.load_data()\n",
    "engine.run_backtesting()\n",
    "df = engine.calculate_result()\n",
    "engine.calculate_statistics()\n",
    "engine.show_chart()"
   ]
  },
  {
   "cell_type": "code",
   "execution_count": null,
   "metadata": {},
   "outputs": [],
   "source": []
  }
 ],
 "metadata": {
  "kernelspec": {
   "display_name": "Python 3",
   "language": "python",
   "name": "python3"
  },
  "language_info": {
   "codemirror_mode": {
    "name": "ipython",
    "version": 3
   },
   "file_extension": ".py",
   "mimetype": "text/x-python",
   "name": "python",
   "nbconvert_exporter": "python",
   "pygments_lexer": "ipython3",
   "version": "3.7.3"
  }
 },
 "nbformat": 4,
 "nbformat_minor": 2
}
