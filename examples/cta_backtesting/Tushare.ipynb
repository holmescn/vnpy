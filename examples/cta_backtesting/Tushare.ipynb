{
 "cells": [
  {
   "cell_type": "markdown",
   "metadata": {},
   "source": [
    "# Tushare 数字货币"
   ]
  },
  {
   "cell_type": "code",
   "execution_count": 1,
   "metadata": {},
   "outputs": [],
   "source": [
    "import pandas as pd\n",
    "import tushare as ts"
   ]
  },
  {
   "cell_type": "code",
   "execution_count": 2,
   "metadata": {},
   "outputs": [],
   "source": [
    "pro = ts.pro_api('')"
   ]
  },
  {
   "cell_type": "code",
   "execution_count": 3,
   "metadata": {
    "scrolled": false
   },
   "outputs": [],
   "source": [
    "# pro.coinbar(exchange='future_okex', symbol='btcusdt', freq='1min', start_date='20190801', end_date='20190802', contract_type='quarter')\n",
    "# df = pro.coin_mins(exchange='future_okex', symbol='eth', freq='15min', trade_date='20190910')"
   ]
  },
  {
   "cell_type": "code",
   "execution_count": 11,
   "metadata": {},
   "outputs": [
    {
     "data": {
      "text/html": [
       "<div>\n",
       "<style scoped>\n",
       "    .dataframe tbody tr th:only-of-type {\n",
       "        vertical-align: middle;\n",
       "    }\n",
       "\n",
       "    .dataframe tbody tr th {\n",
       "        vertical-align: top;\n",
       "    }\n",
       "\n",
       "    .dataframe thead th {\n",
       "        text-align: right;\n",
       "    }\n",
       "</style>\n",
       "<table border=\"1\" class=\"dataframe\">\n",
       "  <thead>\n",
       "    <tr style=\"text-align: right;\">\n",
       "      <th></th>\n",
       "      <th>date</th>\n",
       "      <th>open</th>\n",
       "      <th>high</th>\n",
       "      <th>low</th>\n",
       "      <th>close</th>\n",
       "      <th>vol</th>\n",
       "    </tr>\n",
       "  </thead>\n",
       "  <tbody>\n",
       "    <tr>\n",
       "      <th>0</th>\n",
       "      <td>2019-08-25 00:00:00</td>\n",
       "      <td>10064.7</td>\n",
       "      <td>10064.7</td>\n",
       "      <td>10048.9</td>\n",
       "      <td>10049.1</td>\n",
       "      <td>2.868167</td>\n",
       "    </tr>\n",
       "    <tr>\n",
       "      <th>1</th>\n",
       "      <td>2019-08-25 00:01:00</td>\n",
       "      <td>10046.3</td>\n",
       "      <td>10047.9</td>\n",
       "      <td>10046.2</td>\n",
       "      <td>10046.2</td>\n",
       "      <td>3.205013</td>\n",
       "    </tr>\n",
       "    <tr>\n",
       "      <th>2</th>\n",
       "      <td>2019-08-25 00:02:00</td>\n",
       "      <td>10042.9</td>\n",
       "      <td>10042.9</td>\n",
       "      <td>10026.0</td>\n",
       "      <td>10026.0</td>\n",
       "      <td>2.328869</td>\n",
       "    </tr>\n",
       "    <tr>\n",
       "      <th>3</th>\n",
       "      <td>2019-08-25 00:03:00</td>\n",
       "      <td>10025.8</td>\n",
       "      <td>10027.8</td>\n",
       "      <td>10017.0</td>\n",
       "      <td>10027.8</td>\n",
       "      <td>2.219273</td>\n",
       "    </tr>\n",
       "    <tr>\n",
       "      <th>4</th>\n",
       "      <td>2019-08-25 00:04:00</td>\n",
       "      <td>10028.2</td>\n",
       "      <td>10030.4</td>\n",
       "      <td>10026.3</td>\n",
       "      <td>10027.4</td>\n",
       "      <td>2.852836</td>\n",
       "    </tr>\n",
       "  </tbody>\n",
       "</table>\n",
       "</div>"
      ],
      "text/plain": [
       "                  date     open     high      low    close       vol\n",
       "0  2019-08-25 00:00:00  10064.7  10064.7  10048.9  10049.1  2.868167\n",
       "1  2019-08-25 00:01:00  10046.3  10047.9  10046.2  10046.2  3.205013\n",
       "2  2019-08-25 00:02:00  10042.9  10042.9  10026.0  10026.0  2.328869\n",
       "3  2019-08-25 00:03:00  10025.8  10027.8  10017.0  10027.8  2.219273\n",
       "4  2019-08-25 00:04:00  10028.2  10030.4  10026.3  10027.4  2.852836"
      ]
     },
     "execution_count": 11,
     "metadata": {},
     "output_type": "execute_result"
    }
   ],
   "source": [
    "df = pro.coin_mins(exchange='okex', symbol='btcusdk', trade_date='20190825', freq='1min', fields='date,open,high,low,close,vol')\n",
    "df.head()"
   ]
  },
  {
   "cell_type": "code",
   "execution_count": null,
   "metadata": {},
   "outputs": [],
   "source": []
  }
 ],
 "metadata": {
  "kernelspec": {
   "display_name": "Python 3",
   "language": "python",
   "name": "python3"
  },
  "language_info": {
   "codemirror_mode": {
    "name": "ipython",
    "version": 3
   },
   "file_extension": ".py",
   "mimetype": "text/x-python",
   "name": "python",
   "nbconvert_exporter": "python",
   "pygments_lexer": "ipython3",
   "version": "3.7.3"
  }
 },
 "nbformat": 4,
 "nbformat_minor": 2
}
