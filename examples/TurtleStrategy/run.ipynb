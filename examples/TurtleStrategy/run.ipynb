{
 "cells": [
  {
   "cell_type": "code",
   "execution_count": 1,
   "metadata": {},
   "outputs": [],
   "source": [
    "import sys\n",
    "reload(sys)\n",
    "\n",
    "\n",
    "%matplotlib inline\n",
    "\n",
    "from datetime import datetime\n",
    "import matplotlib.pyplot as plt\n",
    "\n",
    "from turtleEngine import BacktestingEngine"
   ]
  },
  {
   "cell_type": "code",
   "execution_count": 2,
   "metadata": {},
   "outputs": [],
   "source": [
    "l = ['IF99'] #, 'CU99', 'I99', 'TA99']\n",
    "engine = BacktestingEngine()\n",
    "engine.setPeriod(datetime(2015, 1, 1), datetime(2018, 11, 9))\n",
    "engine.initPortfolio(l)"
   ]
  },
  {
   "cell_type": "code",
   "execution_count": 3,
   "metadata": {},
   "outputs": [
    {
     "name": "stdout",
     "output_type": "stream",
     "text": [
      "11:39:12.298000:IF99数据加载完成，总数据量：940\n",
      "11:39:12.299000:全部数据加载完成\n"
     ]
    }
   ],
   "source": [
    "engine.loadData()\n",
    "engine.runBacktesting()\n",
    "engine.calculateResult()"
   ]
  },
  {
   "cell_type": "code",
   "execution_count": 5,
   "metadata": {},
   "outputs": [
    {
     "name": "stdout",
     "output_type": "stream",
     "text": [
      "2015-06-08 00:00:00\n",
      "IF99 多 开仓 5370.6182 1\n",
      "IF99 多 开仓 5370.6182 1\n",
      "2015-06-17 00:00:00\n",
      "IF99 空 平仓 4994.5359289007665 1\n",
      "IF99 空 平仓 4994.5359289007665 1\n",
      "2015-10-12 00:00:00\n",
      "IF99 多 开仓 3341.0982 1\n",
      "2015-10-26 00:00:00\n",
      "IF99 多 开仓 3424.5987371468213 1\n",
      "2015-11-04 00:00:00\n",
      "IF99 多 开仓 3508.099274293643 1\n",
      "2015-11-05 00:00:00\n",
      "IF99 多 开仓 3591.5998114404642 1\n",
      "2015-11-23 00:00:00\n",
      "IF99 空 平仓 3603.8898 4\n",
      "2015-12-21 00:00:00\n",
      "IF99 多 开仓 3786.5235 1\n",
      "2015-12-23 00:00:00\n",
      "IF99 多 开仓 3834.280588057014 1\n",
      "2015-12-28 00:00:00\n",
      "IF99 空 平仓 3643.2522358289566 2\n",
      "2016-03-07 00:00:00\n",
      "IF99 多 开仓 3027.3054 1\n",
      "IF99 多 开仓 3074.3983619185256 1\n",
      "2016-03-18 00:00:00\n",
      "IF99 多 开仓 3121.4913238370505 1\n",
      "2016-03-21 00:00:00\n",
      "IF99 多 开仓 3168.584285755576 1\n",
      "2016-04-20 00:00:00\n",
      "IF99 空 平仓 3105.8006 4\n",
      "2016-07-07 00:00:00\n",
      "IF99 多 开仓 3166.5061 1\n",
      "2016-07-11 00:00:00\n",
      "IF99 多 开仓 3194.9341606344988 1\n",
      "IF99 多 开仓 3192.2685 1\n",
      "2016-07-12 00:00:00\n",
      "IF99 多 开仓 3223.3622212689975 1\n",
      "2016-07-27 00:00:00\n",
      "IF99 空 平仓 3173.5677 4\n",
      "2016-08-11 00:00:00\n",
      "IF99 多 开仓 3245.6871 1\n",
      "2016-08-12 00:00:00\n",
      "IF99 多 开仓 3268.4782362989677 1\n",
      "IF99 多 开仓 3274.5309 1\n",
      "2016-08-15 00:00:00\n",
      "IF99 多 开仓 3291.269372597935 1\n",
      "2016-08-25 00:00:00\n",
      "IF99 空 平仓 3251.8034639734847 4\n",
      "2016-10-19 00:00:00\n",
      "IF99 多 开仓 3294.1809 1\n",
      "2016-10-24 00:00:00\n",
      "IF99 多 开仓 3313.0011487826814 1\n",
      "IF99 多 开仓 3331.821397565363 1\n",
      "IF99 多 开仓 3350.6416463480446 1\n",
      "2016-12-07 00:00:00\n",
      "IF99 空 平仓 3432.9777 4\n",
      "2017-03-24 00:00:00\n",
      "IF99 多 开仓 3468.6291 1\n",
      "2017-03-30 00:00:00\n",
      "IF99 空 平仓 3406.5561141656326 1\n",
      "2017-04-05 00:00:00\n",
      "IF99 多 开仓 3474.3432 1\n",
      "IF99 多 开仓 3491.1258202647214 1\n",
      "IF99 多 开仓 3474.3432 1\n",
      "IF99 多 开仓 3491.1258202647214 1\n",
      "2017-04-17 00:00:00\n",
      "IF99 空 平仓 3440.7779594705567 3\n",
      "IF99 空 平仓 3440.7779594705567 1\n",
      "2017-05-25 00:00:00\n",
      "IF99 多 开仓 3433.5201 1\n",
      "IF99 多 开仓 3449.826458335901 1\n",
      "IF99 多 开仓 3466.1328166718017 1\n",
      "2017-05-26 00:00:00\n",
      "IF99 多 开仓 3482.4391750077025 1\n",
      "2017-06-15 00:00:00\n",
      "IF99 空 平仓 3498.115614786368 4\n",
      "2017-06-22 00:00:00\n",
      "IF99 多 开仓 3579.0624 1\n",
      "2017-06-26 00:00:00\n",
      "IF99 多 开仓 3597.53568462007 1\n",
      "IF99 多 开仓 3616.0089692401393 1\n",
      "IF99 多 开仓 3634.4822538602093 1\n",
      "2017-08-11 00:00:00\n",
      "IF99 空 平仓 3656.9743 4\n",
      "2018-01-02 00:00:00\n",
      "IF99 多 开仓 4105.3543 1\n",
      "2018-01-03 00:00:00\n",
      "IF99 多 开仓 4132.444330290369 1\n",
      "2018-01-08 00:00:00\n",
      "IF99 多 开仓 4159.534360580738 1\n",
      "2018-01-09 00:00:00\n",
      "IF99 多 开仓 4186.624390871108 1\n",
      "2018-02-01 00:00:00\n",
      "IF99 空 平仓 4253.1416 4\n",
      "2018-07-24 00:00:00\n",
      "IF99 多 开仓 3507.8183 1\n",
      "IF99 多 开仓 3547.101357149508 1\n",
      "2018-08-02 00:00:00\n",
      "IF99 空 平仓 3389.9691285514746 2\n",
      "2018-09-21 00:00:00\n",
      "IF99 多 开仓 3407.2856 1\n",
      "2018-09-26 00:00:00\n",
      "IF99 多 开仓 3438.7157642602238 1\n",
      "2018-10-08 00:00:00\n",
      "IF99 空 平仓 3312.9951072193303 2\n"
     ]
    }
   ],
   "source": [
    "for dt, l in engine.tradeDict.items():\n",
    "    print dt\n",
    "    for trade in l:\n",
    "        print trade.vtSymbol, trade.direction, trade.offset, trade.price, trade.volume"
   ]
  },
  {
   "cell_type": "code",
   "execution_count": null,
   "metadata": {
    "scrolled": false
   },
   "outputs": [],
   "source": [
    "for result in engine.resultList:\n",
    "    print result.date, result.totalPnl"
   ]
  },
  {
   "cell_type": "code",
   "execution_count": null,
   "metadata": {},
   "outputs": [],
   "source": []
  },
  {
   "cell_type": "code",
   "execution_count": null,
   "metadata": {},
   "outputs": [],
   "source": [
    "import numpy as np"
   ]
  },
  {
   "cell_type": "code",
   "execution_count": null,
   "metadata": {},
   "outputs": [],
   "source": [
    "l = [result.totalPnl for result in engine.resultList]\n",
    "equity = np.cumsum(l)\n",
    "plt.plot(equity)"
   ]
  },
  {
   "cell_type": "code",
   "execution_count": null,
   "metadata": {},
   "outputs": [],
   "source": [
    "for data in engine.dataDict.values():\n",
    "    print data"
   ]
  },
  {
   "cell_type": "code",
   "execution_count": null,
   "metadata": {},
   "outputs": [],
   "source": [
    "print trade."
   ]
  },
  {
   "cell_type": "code",
   "execution_count": null,
   "metadata": {},
   "outputs": [],
   "source": []
  }
 ],
 "metadata": {
  "kernelspec": {
   "display_name": "Python 2",
   "language": "python",
   "name": "python2"
  },
  "language_info": {
   "codemirror_mode": {
    "name": "ipython",
    "version": 2
   },
   "file_extension": ".py",
   "mimetype": "text/x-python",
   "name": "python",
   "nbconvert_exporter": "python",
   "pygments_lexer": "ipython2",
   "version": "2.7.14"
  }
 },
 "nbformat": 4,
 "nbformat_minor": 2
}
